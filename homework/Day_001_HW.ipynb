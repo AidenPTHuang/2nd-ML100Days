{
 "cells": [
  {
   "cell_type": "markdown",
   "metadata": {},
   "source": [
    "# 作業1:\n",
    "資料來自: https://www.kaggle.com/ronitf/heart-disease-uci\n",
    "\n",
    "1. 你選的這組資料為何重要\n",
    "  * 心臟疾病往往一發生都非常嚴重  \n",
    "2. 資料從何而來\n",
    "  * 資料來自於醫院 \n",
    "3. 蒐集而來的資料型態為何\n",
    "  * int, float \n",
    "4. 這組資料想解決的問題如何評估\n",
    "  * 預測人類發生心血管疾病的可能性\n",
    "   \n",
    "# 作業2：\n",
    "\n",
    "想像你經營一個自由載客車隊，你希望能透過數據分析以提升業績，請你思考並描述你如何規劃整體的分析/解決方案：\n",
    "\n",
    "1. 核心問題為何\n",
    "  * 提升載客量\n",
    "  * 提升載客滿意度\n",
    "2. 資料從何而來\n",
    "  * 乘客的滿意度調查/每趟行程的時間與公里/乘車日期時間 - 可來自於乘客每次搭完車手機可記錄相關資訊\n",
    "  * 氣溫/濕度 - 可來自於氣象局\n",
    "3. 蒐集而來的資料型態為何\n",
    "  * int, datetime, float\n",
    "4. 你要回答的問題，其如何評估\n",
    "  * 根據乘客的滿意度調查的結果觀察使否會影響載客量?\n",
    "  * 根據乘車時間觀察是否會影響載客量? 例如: 上下班時間 or 夜間\n",
    "  * 根據天氣觀察是否會影響載客量? 例如: 雨天\n",
    "   \n",
    "# 作業3：\n"
   ]
  }
 ],
 "metadata": {
  "kernelspec": {
   "display_name": "Python 3",
   "language": "python",
   "name": "python3"
  },
  "language_info": {
   "codemirror_mode": {
    "name": "ipython",
    "version": 3
   },
   "file_extension": ".py",
   "mimetype": "text/x-python",
   "name": "python",
   "nbconvert_exporter": "python",
   "pygments_lexer": "ipython3",
   "version": "3.7.3"
  }
 },
 "nbformat": 4,
 "nbformat_minor": 2
}
