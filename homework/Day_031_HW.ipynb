{
 "cells": [
  {
   "cell_type": "markdown",
   "metadata": {},
   "source": [
    "## 練習時間"
   ]
  },
  {
   "cell_type": "markdown",
   "metadata": {},
   "source": [
    "請觀看台大電機李宏毅教授的影片。李教授會用非常淺顯易懂的方式介紹甚麼是機器學習。\n"
   ]
  },
  {
   "cell_type": "markdown",
   "metadata": {},
   "source": [
    "[youtube](https://www.youtube.com/watch?v=CXgbekl66jc)"
   ]
  },
  {
   "cell_type": "markdown",
   "metadata": {},
   "source": [
    "## 請找出一個你認為機器學習可以發光發熱的領域並闡述原因? "
   ]
  },
  {
   "cell_type": "code",
   "execution_count": null,
   "metadata": {},
   "outputs": [],
   "source": []
  },
  {
   "cell_type": "markdown",
   "metadata": {},
   "source": [
    "我認為機器學習用於醫療方面是很適合並且對於人類是非常有幫助的.\n",
    "\n",
    "在過去, 醫生在診斷一個病人是根據醫生本身具有對人體的知識再加上過去處理病人的經驗. 而人體有相當多的因子, 例如: 身高, 體重, 血壓, 血糖, 心情...等等. 這些都是可以數據化, 以目前來說, 醫生根據經驗再搭配檢驗特定的因子, 來推斷是哪個疾病, 而這在因子這麼多的情況, 只能根據經驗來挑選主要的因子, 但疾病的變化也是很快的. 如果可以根據機器學習快速在大量的因子中, 找到對的因子, 而在病發的初期就可以推斷病症, 這樣就不會等待推斷出病症嚴重時, 已經來不及了. \n"
   ]
  }
 ],
 "metadata": {
  "kernelspec": {
   "display_name": "Python 3",
   "language": "python",
   "name": "python3"
  },
  "language_info": {
   "codemirror_mode": {
    "name": "ipython",
    "version": 3
   },
   "file_extension": ".py",
   "mimetype": "text/x-python",
   "name": "python",
   "nbconvert_exporter": "python",
   "pygments_lexer": "ipython3",
   "version": "3.7.3"
  }
 },
 "nbformat": 4,
 "nbformat_minor": 2
}
